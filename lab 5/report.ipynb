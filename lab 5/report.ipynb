{
  "cells": [
    {
      "cell_type": "raw",
      "metadata": {
        "vscode": {
          "languageId": "raw"
        }
      },
      "source": [
        "# GF(2^n) Implementation Report\n",
        "\n",
        "This report analyzes the implementation of polynomial arithmetic over GF(2) and Galois Field operations in `gf2n.py`. The code implements two main classes:\n",
        "\n",
        "1. **Polynomial2**: Represents polynomials over GF(2) with binary coefficients\n",
        "2. **GF2N**: Represents elements in Galois Field GF(2^n) with modular polynomial arithmetic\n",
        "\n",
        "## Table of Contents\n",
        "1. [Polynomial2 Class](#polynomial2)\n",
        "2. [GF2N Class](#gf2n)\n",
        "3. [Test Cases and Output Analysis](#tests)\n",
        "4. [AES S-box Implementation](#aes-sbox)\n"
      ]
    },
    {
      "cell_type": "code",
      "execution_count": 1,
      "metadata": {},
      "outputs": [
        {
          "name": "stdout",
          "output_type": "stream",
          "text": [
            "\n",
            "Test 1\n",
            "======\n",
            "p1=x^5+x^2+x\n",
            "p2=x^3+x^2+1\n",
            "p3= p1+p2 =  x^5 + x^3 + x + 1\n",
            "\n",
            "Test 2\n",
            "======\n",
            "p4=x^7+x^4+x^3+x^2+x\n",
            "modp=x^8+x^7+x^5+x^4+1\n",
            "p5=p1*p4 mod (modp)= x^7 + x^6 + x^4 + x^3\n",
            "\n",
            "Test 3\n",
            "======\n",
            "p6=x^12+x^7+x^2\n",
            "p7=x^8+x^4+x^3+x+1\n",
            "q for p6/p7= x^4 + 1\n",
            "r for p6/p7= x^5 + x^3 + x^2 + x + 1\n",
            "\n",
            "Test 4\n",
            "======\n",
            "g1 =  x^6 + x^5 + x^2\n",
            "g2 =  x^2 + 1\n",
            "g1+g2 =  97\n",
            "\n",
            "Test 5\n",
            "======\n",
            "irreducible polynomial x^4 + x + 1\n",
            "g4 =  x^3 + x^2 + 1\n",
            "g5 =  x^2 + x\n",
            "g4 x g5 =  x^3\n",
            "\n",
            "Test 6\n",
            "======\n",
            "g7 =  x^12 + x^7 + x^2\n",
            "g8 =  x^8 + x^4 + x^3 + x + 1\n",
            "g7/g8 =\n",
            "q =  x^4 + 1\n",
            "r =  x^5 + x^3 + x^2 + x + 1\n",
            "\n",
            "Test 7\n",
            "======\n",
            "irreducible polynomial x^4 + x + 1\n",
            "g9 =  x^2 + 1\n",
            "inverse of g9 = x^3 + x + 1\n",
            "\n",
            "Test 8\n",
            "======\n",
            "irreducible polynomial x^8 + x^4 + x^3 + x + 1\n",
            "g10 = 0xc2\n",
            "inverse of g10 = g11 = 0x2f\n",
            "affine map of g11 = 0xa2\n"
          ]
        }
      ],
      "source": [
        "# Import the implementation\n",
        "exec(open('gf2n.py').read())\n"
      ]
    },
    {
      "cell_type": "raw",
      "metadata": {
        "vscode": {
          "languageId": "raw"
        }
      },
      "source": [
        "## 1. Polynomial2 Class {#polynomial2}\n",
        "\n",
        "The `Polynomial2` class represents polynomials over GF(2) where coefficients are binary (0 or 1).\n",
        "\n",
        "### Constructor and Normalization\n"
      ]
    },
    {
      "cell_type": "code",
      "execution_count": 2,
      "metadata": {},
      "outputs": [
        {
          "name": "stdout",
          "output_type": "stream",
          "text": [
            "p1 = x^5 + x^2 + x\n",
            "p1 coefficients: [0, 1, 1, 0, 0, 1]\n",
            "p1 degree: 5\n",
            "p1 as integer: 38\n",
            "p1 as integer (binary): 0b100110\n"
          ]
        }
      ],
      "source": [
        "# Example: Creating polynomials\n",
        "# p1 represents x^5 + x^2 + x (coefficients from lowest to highest power)\n",
        "p1 = Polynomial2([0,1,1,0,0,1])\n",
        "print(f\"p1 = {p1}\")\n",
        "print(f\"p1 coefficients: {p1.coeffs}\")\n",
        "print(f\"p1 degree: {p1.degree()}\")\n",
        "print(f\"p1 as integer: {p1.getInt()}\")\n",
        "print(f\"p1 as integer (binary): {bin(p1.getInt())}\")\n"
      ]
    },
    {
      "cell_type": "raw",
      "metadata": {
        "vscode": {
          "languageId": "raw"
        }
      },
      "source": [
        "### Addition and Subtraction (XOR Operation)\n",
        "\n",
        "In GF(2), addition and subtraction are equivalent to XOR operations.\n"
      ]
    },
    {
      "cell_type": "code",
      "execution_count": 3,
      "metadata": {},
      "outputs": [
        {
          "name": "stdout",
          "output_type": "stream",
          "text": [
            "p1 = x^5 + x^2 + x\n",
            "p2 = x^3 + x^2 + 1\n",
            "p1 + p2 = x^5 + x^3 + x + 1\n",
            "Result coefficients: [1, 1, 0, 1, 0, 1]\n",
            "p1 - p2 = x^5 + x^3 + x + 1 (same as addition in GF(2))\n"
          ]
        }
      ],
      "source": [
        "# Addition example\n",
        "p1 = Polynomial2([0,1,1,0,0,1])  # x^5 + x^2 + x\n",
        "p2 = Polynomial2([1,0,1,1])      # x^3 + x^2 + 1\n",
        "p3 = p1.add(p2)\n",
        "\n",
        "print(f\"p1 = {p1}\")\n",
        "print(f\"p2 = {p2}\")\n",
        "print(f\"p1 + p2 = {p3}\")\n",
        "print(f\"Result coefficients: {p3.coeffs}\")\n",
        "\n",
        "# Subtraction is the same as addition in GF(2)\n",
        "p4 = p1.sub(p2)\n",
        "print(f\"p1 - p2 = {p4} (same as addition in GF(2))\")\n"
      ]
    },
    {
      "cell_type": "raw",
      "metadata": {
        "vscode": {
          "languageId": "raw"
        }
      },
      "source": [
        "### Multiplication\n",
        "\n",
        "Polynomial multiplication with optional modular reduction.\n"
      ]
    },
    {
      "cell_type": "code",
      "execution_count": 4,
      "metadata": {},
      "outputs": [
        {
          "name": "stdout",
          "output_type": "stream",
          "text": [
            "p1 = x^2 + x\n",
            "p2 = x + 1\n",
            "p1 * p2 = x^3 + x\n",
            "Result coefficients: [0, 1, 0, 1]\n",
            "\n",
            "Modular multiplication:\n",
            "p1 = x^2 + x\n",
            "p4 = x^7 + x^4 + x^3 + x^2 + x\n",
            "modp = x^8 + x^7 + x^5 + x^4 + 1\n",
            "p1 * p4 mod modp = x^5 + x^2 + x\n"
          ]
        }
      ],
      "source": [
        "# Regular multiplication\n",
        "p1 = Polynomial2([0,1,1])  # x^2 + x\n",
        "p2 = Polynomial2([1,1])    # x + 1\n",
        "p_mult = p1.mul(p2)\n",
        "\n",
        "print(f\"p1 = {p1}\")\n",
        "print(f\"p2 = {p2}\")\n",
        "print(f\"p1 * p2 = {p_mult}\")\n",
        "print(f\"Result coefficients: {p_mult.coeffs}\")\n",
        "\n",
        "# Modular multiplication\n",
        "p4 = Polynomial2([0,1,1,1,1,0,0,1])  # x^7 + x^4 + x^3 + x^2 + x\n",
        "modp = Polynomial2([1,0,0,0,1,1,0,1,1])  # x^8 + x^7 + x^5 + x^4 + 1\n",
        "p5 = p1.mul(p4, modp)\n",
        "\n",
        "print(f\"\\nModular multiplication:\")\n",
        "print(f\"p1 = {p1}\")\n",
        "print(f\"p4 = {p4}\")\n",
        "print(f\"modp = {modp}\")\n",
        "print(f\"p1 * p4 mod modp = {p5}\")\n"
      ]
    },
    {
      "cell_type": "raw",
      "metadata": {
        "vscode": {
          "languageId": "raw"
        }
      },
      "source": [
        "### Division (Euclidean Division)\n",
        "\n",
        "Polynomial division returning quotient and remainder.\n"
      ]
    },
    {
      "cell_type": "code",
      "execution_count": 5,
      "metadata": {},
      "outputs": [
        {
          "name": "stdout",
          "output_type": "stream",
          "text": [
            "Dividend: x^12 + x^7 + x^2\n",
            "Divisor: x^8 + x^4 + x^3 + x + 1\n",
            "Quotient: x^4 + 1\n",
            "Remainder: x^5 + x^3 + x^2 + x + 1\n",
            "Quotient coefficients: [1, 0, 0, 0, 1]\n",
            "Remainder coefficients: [1, 1, 1, 1, 0, 1]\n",
            "\n",
            "Verification (quotient * divisor + remainder): x^12 + x^7 + x^2\n",
            "Original dividend: x^12 + x^7 + x^2\n",
            "Match: True\n"
          ]
        }
      ],
      "source": [
        "# Division example\n",
        "p6 = Polynomial2([0,0,1,0,0,0,0,1,0,0,0,0,1])  # x^12 + x^7 + x^2\n",
        "p7 = Polynomial2([1,1,0,1,1,0,0,0,1])          # x^8 + x^4 + x^3 + x + 1\n",
        "quotient, remainder = p6.div(p7)\n",
        "\n",
        "print(f\"Dividend: {p6}\")\n",
        "print(f\"Divisor: {p7}\")\n",
        "print(f\"Quotient: {quotient}\")\n",
        "print(f\"Remainder: {remainder}\")\n",
        "print(f\"Quotient coefficients: {quotient.coeffs}\")\n",
        "print(f\"Remainder coefficients: {remainder.coeffs}\")\n",
        "\n",
        "# Verification: dividend = quotient * divisor + remainder\n",
        "verification = quotient.mul(p7).add(remainder)\n",
        "print(f\"\\nVerification (quotient * divisor + remainder): {verification}\")\n",
        "print(f\"Original dividend: {p6}\")\n",
        "print(f\"Match: {verification.coeffs == p6.coeffs}\")\n"
      ]
    },
    {
      "cell_type": "raw",
      "metadata": {
        "vscode": {
          "languageId": "raw"
        }
      },
      "source": [
        "## 2. GF2N Class {#gf2n}\n",
        "\n",
        "The `GF2N` class represents elements in Galois Field GF(2^n) with operations modulo an irreducible polynomial.\n",
        "\n",
        "### Constructor and Basic Operations\n"
      ]
    },
    {
      "cell_type": "code",
      "execution_count": 6,
      "metadata": {},
      "outputs": [
        {
          "name": "stdout",
          "output_type": "stream",
          "text": [
            "g1 (decimal 100): 100\n",
            "g1 polynomial: x^6 + x^5 + x^2\n",
            "g1 binary: 0b1100100\n",
            "\n",
            "g2 (decimal 5): 5\n",
            "g2 polynomial: x^2 + 1\n",
            "g2 binary: 0b101\n",
            "\n",
            "g1 + g2 = 97\n",
            "Result polynomial: x^6 + x^5 + 1\n",
            "Result binary: 0b1100001\n"
          ]
        }
      ],
      "source": [
        "# Creating GF2N elements\n",
        "g1 = GF2N(100)  # Default: GF(2^8) with default irreducible polynomial\n",
        "g2 = GF2N(5)\n",
        "\n",
        "print(f\"g1 (decimal 100): {g1}\")\n",
        "print(f\"g1 polynomial: {g1.getPolynomial2()}\")\n",
        "print(f\"g1 binary: {bin(g1.getInt())}\")\n",
        "\n",
        "print(f\"\\ng2 (decimal 5): {g2}\")\n",
        "print(f\"g2 polynomial: {g2.getPolynomial2()}\")\n",
        "print(f\"g2 binary: {bin(g2.getInt())}\")\n",
        "\n",
        "# Addition in GF(2^8)\n",
        "g3 = g1.add(g2)\n",
        "print(f\"\\ng1 + g2 = {g3}\")\n",
        "print(f\"Result polynomial: {g3.getPolynomial2()}\")\n",
        "print(f\"Result binary: {bin(g3.getInt())}\")\n"
      ]
    },
    {
      "cell_type": "raw",
      "metadata": {
        "vscode": {
          "languageId": "raw"
        }
      },
      "source": [
        "### Operations in GF(2^4)\n",
        "\n",
        "Working with a smaller field GF(2^4) using irreducible polynomial x^4 + x^3 + 1.\n"
      ]
    },
    {
      "cell_type": "code",
      "execution_count": 7,
      "metadata": {},
      "outputs": [
        {
          "name": "stdout",
          "output_type": "stream",
          "text": [
            "Irreducible polynomial: x^4 + x + 1\n",
            "\n",
            "g4 (0b1101): x^3 + x^2 + 1\n",
            "g5 (0b110): x^2 + x\n",
            "g4 * g5 = x^3\n",
            "Result as integer: 8\n",
            "Result as binary: 0b1000\n"
          ]
        }
      ],
      "source": [
        "# GF(2^4) operations\n",
        "ip = Polynomial2([1,1,0,0,1])  # x^4 + x^3 + 1\n",
        "print(f\"Irreducible polynomial: {ip}\")\n",
        "\n",
        "g4 = GF2N(0b1101, 4, ip)  # 13 in binary\n",
        "g5 = GF2N(0b110, 4, ip)   # 6 in binary\n",
        "\n",
        "print(f\"\\ng4 (0b1101): {g4.getPolynomial2()}\")\n",
        "print(f\"g5 (0b110): {g5.getPolynomial2()}\")\n",
        "\n",
        "# Multiplication in GF(2^4)\n",
        "g6 = g4.mul(g5)\n",
        "print(f\"g4 * g5 = {g6.p}\")\n",
        "print(f\"Result as integer: {g6.getInt()}\")\n",
        "print(f\"Result as binary: {bin(g6.getInt())}\")\n"
      ]
    },
    {
      "cell_type": "raw",
      "metadata": {
        "vscode": {
          "languageId": "raw"
        }
      },
      "source": [
        "### Multiplicative Inverse\n",
        "\n",
        "Finding multiplicative inverses using the Extended Euclidean Algorithm.\n"
      ]
    },
    {
      "cell_type": "code",
      "execution_count": 8,
      "metadata": {},
      "outputs": [
        {
          "name": "stdout",
          "output_type": "stream",
          "text": [
            "g9 polynomial: x^2 + 1\n",
            "g9 as integer: 5\n",
            "Inverse of g9: x^3 + x + 1\n",
            "Inverse as integer: 11\n",
            "\n",
            "Verification (g9 * g9_inv): 1\n",
            "Should be 1: True\n"
          ]
        }
      ],
      "source": [
        "# Multiplicative inverse in GF(2^4)\n",
        "ip = Polynomial2([1,1,0,0,1])  # x^4 + x^3 + 1\n",
        "g9 = GF2N(0b101, 4, ip)  # 5 in binary\n",
        "\n",
        "print(f\"g9 polynomial: {g9.getPolynomial2()}\")\n",
        "print(f\"g9 as integer: {g9.getInt()}\")\n",
        "\n",
        "g9_inv = g9.mulInv()\n",
        "print(f\"Inverse of g9: {g9_inv.getPolynomial2()}\")\n",
        "print(f\"Inverse as integer: {g9_inv.getInt()}\")\n",
        "\n",
        "# Verification: g9 * g9_inv should equal 1\n",
        "verification = g9.mul(g9_inv)\n",
        "print(f\"\\nVerification (g9 * g9_inv): {verification.getPolynomial2()}\")\n",
        "print(f\"Should be 1: {verification.getInt() == 1}\")\n"
      ]
    },
    {
      "cell_type": "raw",
      "metadata": {
        "vscode": {
          "languageId": "raw"
        }
      },
      "source": [
        "## 3. Test Cases and Output Analysis {#tests}\n",
        "\n",
        "Let's run all the test cases from the original file and analyze their outputs.\n"
      ]
    },
    {
      "cell_type": "code",
      "execution_count": 9,
      "metadata": {},
      "outputs": [
        {
          "name": "stdout",
          "output_type": "stream",
          "text": [
            "Test 1: Polynomial Addition\n",
            "==============================\n",
            "p1 = x^5 + x^2 + x\n",
            "p2 = x^3 + x^2 + 1\n",
            "p3 = p1 + p2 = x^5 + x^3 + x + 1\n",
            "Coefficients: [1, 1, 0, 1, 0, 1]\n",
            "Explanation: XOR of coefficients at each power\n",
            "x^0: 0 ⊕ 1 = 1\n",
            "x^1: 1 ⊕ 0 = 1\n",
            "x^2: 1 ⊕ 1 = 0\n",
            "x^3: 0 ⊕ 1 = 1\n",
            "x^4: 0 ⊕ 0 = 0\n",
            "x^5: 1 ⊕ 0 = 1\n",
            "Result: x^5 + x^3 + x + 1\n"
          ]
        }
      ],
      "source": [
        "print('Test 1: Polynomial Addition')\n",
        "print('=' * 30)\n",
        "print('p1 = x^5 + x^2 + x')\n",
        "print('p2 = x^3 + x^2 + 1')\n",
        "p1 = Polynomial2([0,1,1,0,0,1])\n",
        "p2 = Polynomial2([1,0,1,1])\n",
        "p3 = p1.add(p2)\n",
        "print(f'p3 = p1 + p2 = {p3}')\n",
        "print(f'Coefficients: {p3.coeffs}')\n",
        "print(f'Explanation: XOR of coefficients at each power')\n",
        "print(f'x^0: 0 ⊕ 1 = 1')\n",
        "print(f'x^1: 1 ⊕ 0 = 1')\n",
        "print(f'x^2: 1 ⊕ 1 = 0')\n",
        "print(f'x^3: 0 ⊕ 1 = 1')\n",
        "print(f'x^4: 0 ⊕ 0 = 0')\n",
        "print(f'x^5: 1 ⊕ 0 = 1')\n",
        "print(f'Result: {p3}')\n"
      ]
    },
    {
      "cell_type": "code",
      "execution_count": 10,
      "metadata": {},
      "outputs": [
        {
          "name": "stdout",
          "output_type": "stream",
          "text": [
            "Test 2: Modular Multiplication\n",
            "==============================\n",
            "p1 = x^5 + x^2 + x\n",
            "p4 = x^7 + x^4 + x^3 + x^2 + x\n",
            "modp = x^8 + x^7 + x^5 + x^4 + 1\n",
            "p5 = p1 * p4 mod (modp) = x^7 + x^6 + x^4 + x^3\n",
            "Result coefficients: [0, 0, 0, 1, 1, 0, 1, 1]\n",
            "This demonstrates polynomial multiplication followed by modular reduction\n"
          ]
        }
      ],
      "source": [
        "print('Test 2: Modular Multiplication')\n",
        "print('=' * 30)\n",
        "print('p1 = x^5 + x^2 + x')\n",
        "print('p4 = x^7 + x^4 + x^3 + x^2 + x')\n",
        "print('modp = x^8 + x^7 + x^5 + x^4 + 1')\n",
        "p1 = Polynomial2([0,1,1,0,0,1])\n",
        "p4 = Polynomial2([0,1,1,1,1,0,0,1])\n",
        "modp = Polynomial2([1,0,0,0,1,1,0,1,1])\n",
        "p5 = p1.mul(p4, modp)\n",
        "print(f'p5 = p1 * p4 mod (modp) = {p5}')\n",
        "print(f'Result coefficients: {p5.coeffs}')\n",
        "print(f'This demonstrates polynomial multiplication followed by modular reduction')\n"
      ]
    },
    {
      "cell_type": "raw",
      "metadata": {
        "vscode": {
          "languageId": "raw"
        }
      },
      "source": [
        "## 4. AES S-box Implementation {#aes-sbox}\n",
        "\n",
        "The implementation includes functions for AES S-box generation using multiplicative inverse and affine transformation.\n"
      ]
    },
    {
      "cell_type": "code",
      "execution_count": 11,
      "metadata": {},
      "outputs": [
        {
          "name": "stdout",
          "output_type": "stream",
          "text": [
            "AES S-box Implementation Test\n",
            "==============================\n",
            "AES irreducible polynomial: x^8 + x^4 + x^3 + x + 1\n",
            "\n",
            "Input: g10 = 0xc2 = 194\n",
            "g10 polynomial: x^7 + x^6 + x\n",
            "\n",
            "Multiplicative inverse: g11 = 0x2f\n",
            "g11 polynomial: x^5 + x^3 + x^2 + x + 1\n",
            "\n",
            "After affine transformation: g12 = 0xa2\n",
            "g12 polynomial: x^7 + x^5 + x\n",
            "\n",
            "S-box[0xc2] = 0xa2\n"
          ]
        }
      ],
      "source": [
        "print('AES S-box Implementation Test')\n",
        "print('=' * 30)\n",
        "\n",
        "# Using the AES irreducible polynomial x^8 + x^4 + x^3 + x + 1\n",
        "ip = Polynomial2([1,1,0,1,1,0,0,0,1])\n",
        "print(f'AES irreducible polynomial: {ip}')\n",
        "\n",
        "# Test with 0xc2 (194 in decimal)\n",
        "g10 = GF2N(0xc2, 8, ip)\n",
        "print(f'\\nInput: g10 = 0xc2 = {g10.getInt()}')\n",
        "print(f'g10 polynomial: {g10.getPolynomial2()}')\n",
        "\n",
        "# Find multiplicative inverse\n",
        "g11 = g10.mulInv()\n",
        "print(f'\\nMultiplicative inverse: g11 = {hex(g11.getInt())}')\n",
        "print(f'g11 polynomial: {g11.getPolynomial2()}')\n",
        "\n",
        "# Apply affine transformation\n",
        "g12 = g11.affineMap()\n",
        "print(f'\\nAfter affine transformation: g12 = {hex(g12.getInt())}')\n",
        "print(f'g12 polynomial: {g12.getPolynomial2()}')\n",
        "\n",
        "# This gives us the S-box value for input 0xc2\n",
        "print(f'\\nS-box[0xc2] = {hex(g12.getInt())}')\n"
      ]
    },
    {
      "cell_type": "raw",
      "metadata": {
        "vscode": {
          "languageId": "raw"
        }
      },
      "source": [
        "### Complete S-box Generation Example\n",
        "\n",
        "Let's generate a few S-box values to demonstrate the complete process.\n"
      ]
    },
    {
      "cell_type": "code",
      "execution_count": 12,
      "metadata": {},
      "outputs": [
        {
          "name": "stdout",
          "output_type": "stream",
          "text": [
            "Sample AES S-box values:\n",
            "=========================\n",
            "Input -> S-box Output\n",
            "0x00 -> 0x63\n",
            "0x01 -> 0x37\n",
            "0x02 -> 0x87\n",
            "0x03 -> 0x47\n",
            "0x04 -> 0xdf\n",
            "0x05 -> 0x46\n",
            "0x06 -> 0x06\n",
            "0x07 -> 0xac\n",
            "0x08 -> 0xf3\n",
            "0x09 -> 0xe0\n",
            "0x0a -> 0x86\n",
            "0x0b -> 0x42\n",
            "0x0c -> 0x1f\n",
            "0x0d -> 0x8d\n",
            "0x0e -> 0x4a\n",
            "0x0f -> 0x97\n"
          ]
        }
      ],
      "source": [
        "def generate_sbox_value(input_byte):\n",
        "    \"\"\"Generate AES S-box value for given input byte\"\"\"\n",
        "    ip = Polynomial2([1,1,0,1,1,0,0,0,1])  # AES irreducible polynomial\n",
        "    \n",
        "    if input_byte == 0:\n",
        "        # Special case: S(0) = 0x63\n",
        "        return 0x63\n",
        "    \n",
        "    # Create GF(2^8) element\n",
        "    g = GF2N(input_byte, 8, ip)\n",
        "    \n",
        "    # Find multiplicative inverse\n",
        "    g_inv = g.mulInv()\n",
        "    \n",
        "    # Apply affine transformation\n",
        "    g_affine = g_inv.affineMap()\n",
        "    \n",
        "    return g_affine.getInt()\n",
        "\n",
        "# Generate S-box values for first 16 bytes\n",
        "print('Sample AES S-box values:')\n",
        "print('=' * 25)\n",
        "print('Input -> S-box Output')\n",
        "for i in range(16):\n",
        "    sbox_val = generate_sbox_value(i)\n",
        "    print(f'0x{i:02x} -> 0x{sbox_val:02x}')\n"
      ]
    }
  ],
  "metadata": {
    "kernelspec": {
      "display_name": "Python 3",
      "language": "python",
      "name": "python3"
    },
    "language_info": {
      "codemirror_mode": {
        "name": "ipython",
        "version": 3
      },
      "file_extension": ".py",
      "mimetype": "text/x-python",
      "name": "python",
      "nbconvert_exporter": "python",
      "pygments_lexer": "ipython3",
      "version": "3.13.5"
    }
  },
  "nbformat": 4,
  "nbformat_minor": 2
}
